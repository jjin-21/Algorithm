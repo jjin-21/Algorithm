{
 "cells": [
  {
   "cell_type": "markdown",
   "metadata": {},
   "source": [
    "# 조건문"
   ]
  },
  {
   "cell_type": "markdown",
   "metadata": {},
   "source": [
    "## 2884번 알람시계"
   ]
  },
  {
   "cell_type": "code",
   "execution_count": null,
   "metadata": {},
   "outputs": [],
   "source": [
    "H, M = map(int,input().split())\n",
    "if (H > 0) & (M < 45):\n",
    "    H -= 1\n",
    "    M += 15\n",
    "elif (H == 0) & (M < 45):\n",
    "    H = 23\n",
    "    M += 15\n",
    "else:\n",
    "    M -= 45 \n",
    "print(H,M)"
   ]
  },
  {
   "cell_type": "markdown",
   "metadata": {},
   "source": [
    "## 2525번 오븐시계"
   ]
  },
  {
   "cell_type": "code",
   "execution_count": null,
   "metadata": {},
   "outputs": [],
   "source": [
    "H, M = map(int,input().split())\n",
    "C = int(input())\n",
    "\n",
    "hm = H * 60 + M\n",
    "hm += C\n",
    "\n",
    "if hm < 60:\n",
    "    new_h = 0\n",
    "    new_M = hm\n",
    "else:\n",
    "    new_H = hm // 60\n",
    "    new_M = hm % 60\n",
    "    if new_H > 23:\n",
    "        new_H -= 24\n",
    "\n",
    "print(new_H, new_M)"
   ]
  },
  {
   "cell_type": "markdown",
   "metadata": {},
   "source": [
    "## 2480번 주사위 세개"
   ]
  },
  {
   "cell_type": "code",
   "execution_count": null,
   "metadata": {},
   "outputs": [],
   "source": [
    "dice = list(map(int,input().split()))\n",
    "dice.sort()\n",
    "result = 0\n",
    "if dice[0] == dice[2]:\n",
    "    result = 10000 + dice[0]*1000\n",
    "elif (dice[0] == dice[1]) | (dice[1] == dice[2]):\n",
    "    result = 1000 + dice[1]*100\n",
    "else:\n",
    "    result = dice[2]*100\n",
    "print(result)\n"
   ]
  },
  {
   "cell_type": "markdown",
   "metadata": {},
   "source": [
    "# 1차원 배열"
   ]
  },
  {
   "cell_type": "markdown",
   "metadata": {},
   "source": [
    "## 10818번 최소,최대"
   ]
  },
  {
   "cell_type": "code",
   "execution_count": null,
   "metadata": {},
   "outputs": [],
   "source": [
    "N = int(input())\n",
    "num_ls = list(map(int,input().split()))\n",
    "num_ls.sort()\n",
    "print(num_ls[0], num_ls[N-1])"
   ]
  },
  {
   "cell_type": "markdown",
   "metadata": {},
   "source": [
    "## 10813번 공바꾸기"
   ]
  },
  {
   "cell_type": "code",
   "execution_count": null,
   "metadata": {},
   "outputs": [],
   "source": [
    "N ,M = map(int,input().split())\n",
    "num_ls = list(range(1,N+1))\n",
    "for i in range(M):\n",
    "    a, b = map(int,input().split())\n",
    "    a -= 1\n",
    "    b -= 1\n",
    "    tmp = num_ls[a]\n",
    "    num_ls[a] = num_ls[b]\n",
    "    num_ls[b] = tmp\n",
    "# result = ' '.join(map(str,num_ls))\n",
    "for num in num_ls:\n",
    "    print(num,end=' ')"
   ]
  },
  {
   "cell_type": "code",
   "execution_count": null,
   "metadata": {},
   "outputs": [],
   "source": [
    "import sys\n",
    "sys.stdin.readline()"
   ]
  },
  {
   "cell_type": "code",
   "execution_count": null,
   "metadata": {},
   "outputs": [],
   "source": [
    "'a b 31 4'.split()"
   ]
  },
  {
   "cell_type": "code",
   "execution_count": null,
   "metadata": {},
   "outputs": [],
   "source": [
    "a = 3,4\n",
    "type(a)"
   ]
  },
  {
   "cell_type": "code",
   "execution_count": 22,
   "metadata": {},
   "outputs": [
    {
     "name": "stdout",
     "output_type": "stream",
     "text": [
      "김시습님 환영합니다!\n",
      "허균님 환영합니다!\n",
      "남영로님 환영합니다!\n",
      "임제님 환영합니다!\n",
      "박지원님 환영합니다!\n",
      "[{'name': '김시습', 'age': 20, 'address': '서울'}, {'name': '허균', 'age': 16, 'address': '강릉'}, {'name': '남영로', 'age': 52, 'address': '조선'}, {'name': '임제', 'age': 36, 'address': '나주'}, {'name': '박지원', 'age': 60, 'address': '한성부'}]\n",
      "5\n"
     ]
    }
   ],
   "source": [
    "number_of_people = 0\n",
    "\n",
    "\n",
    "def increase_user(name):\n",
    "    global number_of_people\n",
    "    number_of_people += len(name)\n",
    "    #print(f'{name}님 환영합니다!')\n",
    "\n",
    "\n",
    "def create_user():\n",
    "    global user_info\n",
    "    increase_user(name)\n",
    "    user_info = list(map(lambda n, a, ad: {'name': n, 'age': a, 'address': ad}, name, age, address))\n",
    "    for info in user_info:\n",
    "        print(f'{info[\"name\"]}님 환영합니다!')\n",
    "    print(user_info)\n",
    "\n",
    "user_info = []\n",
    "\n",
    "name = ['김시습', '허균', '남영로', '임제', '박지원']\n",
    "age = [20, 16, 52, 36, 60]\n",
    "address = ['서울', '강릉', '조선', '나주', '한성부']\n",
    "\n",
    "create_user()\n",
    "print(number_of_people)\n"
   ]
  },
  {
   "cell_type": "code",
   "execution_count": 26,
   "metadata": {},
   "outputs": [
    {
     "name": "stdout",
     "output_type": "stream",
     "text": [
      "김시습님 환영합니다!\n",
      "허균님 환영합니다!\n",
      "남영로님 환영합니다!\n",
      "임제님 환영합니다!\n",
      "박지원님 환영합니다!\n",
      "남은 책의 수: 98\n",
      "김시습님이 2권의 책을 대여하였습니다.\n",
      "남은 책의 수: 97\n",
      "허균님이 1권의 책을 대여하였습니다.\n",
      "남은 책의 수: 92\n",
      "남영로님이 5권의 책을 대여하였습니다.\n",
      "남은 책의 수: 89\n",
      "임제님이 3권의 책을 대여하였습니다.\n",
      "남은 책의 수: 83\n",
      "박지원님이 6권의 책을 대여하였습니다.\n"
     ]
    }
   ],
   "source": [
    "number_of_people = 0\n",
    "number_of_book = 100\n",
    "\n",
    "def increase_user(name):\n",
    "    global number_of_people\n",
    "    number_of_people += len(name)\n",
    "\n",
    "def decrease_book(num_book):\n",
    "    global number_of_book\n",
    "    number_of_book -= num_book\n",
    "    print(f'남은 책의 수: {number_of_book}')\n",
    "\n",
    "name = ['김시습', '허균', '남영로', '임제', '박지원']\n",
    "age = [20, 16, 52, 36, 60]\n",
    "address = ['서울', '강릉', '조선', '나주', '한성부']\n",
    "\n",
    "def create_user():\n",
    "    global user_info\n",
    "    increase_user(name)\n",
    "    user_info = list(map(lambda n, a, ad: {'name': n, 'age': a, 'address': ad}, name, age, address))\n",
    "    for info in user_info:\n",
    "        print(f'{info[\"name\"]}님 환영합니다!')\n",
    "\n",
    "user_info = []\n",
    "\n",
    "def rental_book(info):\n",
    "    num_books = info['age'] // 10\n",
    "    decrease_book(num_books)\n",
    "    print(f\"{info['name']}님이 {num_books}권의 책을 대여하였습니다.\")\n",
    "\n",
    "create_user()\n",
    "\n",
    "for user in user_info:\n",
    "    rental_book(user)\n"
   ]
  },
  {
   "cell_type": "code",
   "execution_count": 19,
   "metadata": {},
   "outputs": [
    {
     "data": {
      "text/plain": [
       "['김시습님 환영합니다!', '허균님 환영합니다!', '남영로님 환영합니다!', '임제님 환영합니다!', '박지원님 환영합니다!']"
      ]
     },
     "execution_count": 19,
     "metadata": {},
     "output_type": "execute_result"
    }
   ],
   "source": [
    "welcome_messages"
   ]
  }
 ],
 "metadata": {
  "kernelspec": {
   "display_name": "Python 3",
   "language": "python",
   "name": "python3"
  },
  "language_info": {
   "codemirror_mode": {
    "name": "ipython",
    "version": 3
   },
   "file_extension": ".py",
   "mimetype": "text/x-python",
   "name": "python",
   "nbconvert_exporter": "python",
   "pygments_lexer": "ipython3",
   "version": "3.9.5"
  },
  "orig_nbformat": 4
 },
 "nbformat": 4,
 "nbformat_minor": 2
}
