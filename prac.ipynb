{
 "cells": [
  {
   "cell_type": "markdown",
   "metadata": {},
   "source": [
    "# 조건문"
   ]
  },
  {
   "cell_type": "markdown",
   "metadata": {},
   "source": [
    "## 2884번 알람시계"
   ]
  },
  {
   "cell_type": "code",
   "execution_count": 6,
   "metadata": {},
   "outputs": [
    {
     "name": "stdout",
     "output_type": "stream",
     "text": [
      "9 25\n"
     ]
    }
   ],
   "source": [
    "H, M = map(int,input().split())\n",
    "if (H > 0) & (M < 45):\n",
    "    H -= 1\n",
    "    M += 15\n",
    "elif (H == 0) & (M < 45):\n",
    "    H = 23\n",
    "    M += 15\n",
    "else:\n",
    "    M -= 45 \n",
    "print(H,M)"
   ]
  },
  {
   "cell_type": "markdown",
   "metadata": {},
   "source": [
    "## 2525번 오븐시계"
   ]
  },
  {
   "cell_type": "code",
   "execution_count": 2,
   "metadata": {},
   "outputs": [
    {
     "name": "stdout",
     "output_type": "stream",
     "text": [
      "0 30\n"
     ]
    }
   ],
   "source": [
    "H, M = map(int,input().split())\n",
    "C = int(input())\n",
    "\n",
    "hm = H * 60 + M\n",
    "hm += C\n",
    "\n",
    "if hm < 60:\n",
    "    new_h = 0\n",
    "    new_M = hm\n",
    "else:\n",
    "    new_H = hm // 60\n",
    "    new_M = hm % 60\n",
    "    if new_H > 23:\n",
    "        new_H -= 24\n",
    "\n",
    "print(new_H, new_M)"
   ]
  },
  {
   "cell_type": "markdown",
   "metadata": {},
   "source": [
    "## 2480번 주사위 세개"
   ]
  },
  {
   "cell_type": "code",
   "execution_count": 17,
   "metadata": {},
   "outputs": [
    {
     "name": "stdout",
     "output_type": "stream",
     "text": [
      "15000\n"
     ]
    }
   ],
   "source": [
    "dice = list(map(int,input().split()))\n",
    "dice.sort()\n",
    "result = 0\n",
    "if dice[0] == dice[2]:\n",
    "    result = 10000 + dice[0]*1000\n",
    "elif (dice[0] == dice[1]) | (dice[1] == dice[2]):\n",
    "    result = 1000 + dice[1]*100\n",
    "else:\n",
    "    result = dice[2]*100\n",
    "print(result)\n"
   ]
  },
  {
   "cell_type": "markdown",
   "metadata": {},
   "source": [
    "# 1차원 배열"
   ]
  },
  {
   "cell_type": "markdown",
   "metadata": {},
   "source": [
    "## 10818번 최소,최대"
   ]
  },
  {
   "cell_type": "code",
   "execution_count": 6,
   "metadata": {},
   "outputs": [
    {
     "name": "stdout",
     "output_type": "stream",
     "text": [
      "1 87\n"
     ]
    }
   ],
   "source": [
    "N = int(input())\n",
    "num_ls = list(map(int,input().split()))\n",
    "num_ls.sort()\n",
    "print(num_ls[0], num_ls[N-1])"
   ]
  },
  {
   "cell_type": "markdown",
   "metadata": {},
   "source": [
    "## 10813번 공바꾸기"
   ]
  },
  {
   "cell_type": "code",
   "execution_count": 15,
   "metadata": {},
   "outputs": [
    {
     "name": "stdout",
     "output_type": "stream",
     "text": [
      "3 1 4 2 5 "
     ]
    }
   ],
   "source": [
    "N ,M = map(int,input().split())\n",
    "num_ls = list(range(1,N+1))\n",
    "for i in range(M):\n",
    "    a, b = map(int,input().split())\n",
    "    a -= 1\n",
    "    b -= 1\n",
    "    tmp = num_ls[a]\n",
    "    num_ls[a] = num_ls[b]\n",
    "    num_ls[b] = tmp\n",
    "# result = ' '.join(map(str,num_ls))\n",
    "for num in num_ls:\n",
    "    print(num,end=' ')"
   ]
  },
  {
   "cell_type": "code",
   "execution_count": 1,
   "metadata": {},
   "outputs": [],
   "source": [
    "import sys\n",
    "sys.stdin.readline()"
   ]
  },
  {
   "cell_type": "code",
   "execution_count": 6,
   "metadata": {},
   "outputs": [
    {
     "data": {
      "text/plain": [
       "['a', 'b', '31', '4']"
      ]
     },
     "execution_count": 6,
     "metadata": {},
     "output_type": "execute_result"
    }
   ],
   "source": [
    "'a b 31 4'.split()"
   ]
  },
  {
   "cell_type": "code",
   "execution_count": 7,
   "metadata": {},
   "outputs": [
    {
     "data": {
      "text/plain": [
       "tuple"
      ]
     },
     "execution_count": 7,
     "metadata": {},
     "output_type": "execute_result"
    }
   ],
   "source": [
    "a = 3,4\n",
    "type(a)"
   ]
  }
 ],
 "metadata": {
  "kernelspec": {
   "display_name": "Python 3",
   "language": "python",
   "name": "python3"
  },
  "language_info": {
   "codemirror_mode": {
    "name": "ipython",
    "version": 3
   },
   "file_extension": ".py",
   "mimetype": "text/x-python",
   "name": "python",
   "nbconvert_exporter": "python",
   "pygments_lexer": "ipython3",
   "version": "3.9.5"
  },
  "orig_nbformat": 4
 },
 "nbformat": 4,
 "nbformat_minor": 2
}
